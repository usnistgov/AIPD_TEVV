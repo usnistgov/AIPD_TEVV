{
 "cells": [
  {
   "cell_type": "markdown",
   "id": "e16c9b99",
   "metadata": {},
   "source": [
    "# BLAST Analysis for AIPD TEVV (Ikonomova et al.)\n",
    "Returns best match for homolog sequences in DNA or amino acid FASTA files using BLAST+."
   ]
  },
  {
   "cell_type": "code",
   "execution_count": 6,
   "id": "99d9b744",
   "metadata": {},
   "outputs": [],
   "source": [
    "import time\n",
    "import pandas as pd\n",
    "from Bio import SeqIO, Entrez\n",
    "from Bio.Blast import NCBIWWW, NCBIXML\n",
    "from Bio.Seq import Seq\n",
    "from pathlib import Path\n",
    "import os"
   ]
  },
  {
   "cell_type": "code",
   "execution_count": 2,
   "id": "48be3dab",
   "metadata": {},
   "outputs": [],
   "source": [
    "# Set your email for NCBI\n",
    "Entrez.email = \"example@uni.edu\""
   ]
  },
  {
   "cell_type": "code",
   "execution_count": 3,
   "id": "fc4891b9",
   "metadata": {},
   "outputs": [],
   "source": [
    "def translate_dna(dna_seq):\n",
    "    \"\"\"Translate DNA sequence to amino acid (first frame only)\"\"\"\n",
    "    return str(Seq(dna_seq).translate())\n",
    "\n",
    "def blast_search(aa_seq):\n",
    "    \"\"\"Perform BLAST search and return top hit information\"\"\"\n",
    "    try:\n",
    "        # Search against non-redundant protein database (nr)\n",
    "        result_handle = NCBIWWW.qblast(\"blastp\",\n",
    "                                       \"nr\",\n",
    "                                       aa_seq,\n",
    "                                       hitlist_size=1,\n",
    "                                       alignments=1\n",
    "                                       )\n",
    "        blast_records = NCBIXML.parse(result_handle)\n",
    "        \n",
    "        # Get the first (and only) record\n",
    "        record = next(blast_records)\n",
    "        \n",
    "        # Check if there are any alignments\n",
    "        if record.alignments:\n",
    "            # Get the top hit\n",
    "            top_hit = record.alignments[0]\n",
    "            top_hsp = top_hit.hsps[0]\n",
    "            return top_hit.title, top_hsp.expect\n",
    "        else:\n",
    "            return \"NA\", \"NA\"\n",
    "    except Exception as e:\n",
    "        print(f\"Error in BLAST search: {e}\")\n",
    "        return \"NA\", \"NA\"\n",
    "\n",
    "def bestmatch(fasta_file, type=\"aa\"):\n",
    "    \"\"\"Process fasta file and output results\"\"\"\n",
    "    results = []\n",
    "    \n",
    "    # Parse the fasta file\n",
    "    for record in SeqIO.parse(fasta_file, \"fasta\"):\n",
    "        seq_name = record.id\n",
    "        seq = str(record.seq)\n",
    "        \n",
    "        if type != \"aa\":\n",
    "            # Translate DNA to amino acid\n",
    "            aa_seq = translate_dna(seq)\n",
    "        else:\n",
    "            aa_seq = seq\n",
    "        \n",
    "        # Perform BLAST search\n",
    "        print(f\"Processing sequence: {seq_name}\")\n",
    "        match_name, e_value = blast_search(aa_seq)\n",
    "        \n",
    "        # Add to results\n",
    "        results.append({\n",
    "            \"query_sequence\": seq_name,\n",
    "            \"top_match\": match_name,\n",
    "            \"e_value\": e_value\n",
    "        })\n",
    "        \n",
    "        # Sleep to avoid overwhelming the NCBI server\n",
    "        # NCBI allows ~3 requests per second for registered users\n",
    "        time.sleep(1)\n",
    "    \n",
    "    # Convert results to DataFrame\n",
    "    df = pd.DataFrame(results)\n",
    "    \n",
    "    return df"
   ]
  },
  {
   "cell_type": "markdown",
   "id": "52d1c1d5",
   "metadata": {},
   "source": [
    "## Process FASTA files"
   ]
  },
  {
   "cell_type": "code",
   "execution_count": 13,
   "id": "ffcdaefc",
   "metadata": {},
   "outputs": [
    {
     "name": "stdout",
     "output_type": "stream",
     "text": [
      "../data/blast/psd95pdz3_blast_results.csv already exists. Skipping BLAST search.\n",
      "../data/blast/ura3_blast_results.csv already exists. Skipping BLAST search.\n",
      "../data/blast/t7rnapol_blast_results.csv already exists. Skipping BLAST search.\n"
     ]
    }
   ],
   "source": [
    "for protein in [\"psd95pdz3\", \"ura3\", \"t7rnapol\"]:\n",
    "    fasta_file = Path(f\"../data/fasta/{protein}.fasta\")\n",
    "\n",
    "    output_file = \"../data/blast/\" + fasta_file.stem + \"_blast_results.csv\"\n",
    "    if not os.path.exists(output_file):\n",
    "        results_df = bestmatch(fasta_file)\n",
    "\n",
    "        # Display results\n",
    "        print(\"\\nResults:\")\n",
    "        print(results_df)\n",
    "\n",
    "        # Save results to CSV\n",
    "        results_df.to_csv(output_file, index=False)\n",
    "        print(f\"\\nResults saved to {output_file}\")\n",
    "    else:\n",
    "        print(f\"{output_file} already exists. Skipping BLAST search.\")"
   ]
  }
 ],
 "metadata": {
  "kernelspec": {
   "display_name": "clip-search",
   "language": "python",
   "name": "python3"
  },
  "language_info": {
   "codemirror_mode": {
    "name": "ipython",
    "version": 3
   },
   "file_extension": ".py",
   "mimetype": "text/x-python",
   "name": "python",
   "nbconvert_exporter": "python",
   "pygments_lexer": "ipython3",
   "version": "3.12.3"
  }
 },
 "nbformat": 4,
 "nbformat_minor": 5
}
